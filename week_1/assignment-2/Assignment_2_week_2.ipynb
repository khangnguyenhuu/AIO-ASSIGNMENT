{
  "nbformat": 4,
  "nbformat_minor": 0,
  "metadata": {
    "colab": {
      "provenance": []
    },
    "kernelspec": {
      "name": "python3",
      "display_name": "Python 3"
    },
    "language_info": {
      "name": "python"
    }
  },
  "cells": [
    {
      "cell_type": "markdown",
      "source": [
        "# Câu hỏi tự luận"
      ],
      "metadata": {
        "id": "Pu6uVAvTozr7"
      }
    },
    {
      "cell_type": "code",
      "execution_count": 136,
      "metadata": {
        "colab": {
          "base_uri": "https://localhost:8080/"
        },
        "id": "vRttSEGYCQEW",
        "outputId": "bf09b6b6-1eef-40af-9166-da75e4fba029"
      },
      "outputs": [
        {
          "output_type": "stream",
          "name": "stdout",
          "text": [
            "[5, 5, 5, 5, 10, 12, 33, 33]\n"
          ]
        }
      ],
      "source": [
        "'''\n",
        "Cho một list các số nguyên num_list và một slidi\n",
        "ng window có kích thước size k di\n",
        "chuyển từ trái sang phải. Mỗi lần dịch chuyển 1 vị trí sang phải có thể nhìn thấy\n",
        "đươc k số trong num_list và tìm số lớn nhất trong k số này sau mỗi lần trượt k phải\n",
        "lớn hơn hoặc bằng 1\n",
        "'''\n",
        "\n",
        "num_list = [3, 4, 5, 1, -44, 5, 10, 12, 33, 1]\n",
        "k = 3\n",
        "def sliding_windows(num_list, k):\n",
        "  assert k >= 1, \"k must be more than 1\"\n",
        "  new_size = len(num_list) - k + 1\n",
        "  result = []\n",
        "  for i in range(0, new_size):\n",
        "    max_num = max(num_list[i:i+k])\n",
        "    result.append(max_num)\n",
        "\n",
        "  return result\n",
        "\n",
        "print(sliding_windows(num_list, k))"
      ]
    },
    {
      "cell_type": "code",
      "source": [
        "'''\n",
        "Thực hiện theo các yêu cầu sau.\n",
        "Viết function trả về một dictionary đếm số lượng chữ xuất hiện trong một từ, với key là chữ cái\n",
        "và value là số lần xuất hiện\n",
        "• Input: một từ\n",
        "• Output: dictionary đếm số lần các chữ xuất hiện\n",
        "• Note: Giả sử các từ nhập vào đều có các chữ cái thuộc [a-z] hoặc [A-Z]\n",
        "'''\n",
        "\n",
        "string = \"Hapiness\"\n",
        "def bag_of_words(string):\n",
        "  bag_of_words = {}\n",
        "  for char in string:\n",
        "    if char not in bag_of_words:\n",
        "      bag_of_words.update({char: 1})\n",
        "    else:\n",
        "      bag_of_words[char] += 1\n",
        "\n",
        "  return bag_of_words\n",
        "\n",
        "print(bag_of_words(string))\n"
      ],
      "metadata": {
        "colab": {
          "base_uri": "https://localhost:8080/"
        },
        "id": "AGxmu7VGDDiE",
        "outputId": "eebf7d6e-a135-4f10-fce6-7aa2690062bc"
      },
      "execution_count": 54,
      "outputs": [
        {
          "output_type": "stream",
          "name": "stdout",
          "text": [
            "{'H': 1, 'a': 1, 'p': 1, 'i': 1, 'n': 1, 'e': 1, 's': 2}\n"
          ]
        }
      ]
    },
    {
      "cell_type": "code",
      "source": [
        "'''\n",
        "Thực hiện theo các yêu cầu sau.\n",
        "Viết function đọc các câu trong một file txt, đếm số lượng các từ xuất hiện và trả về một dictionary\n",
        "với key là từ và value là số lần từ đó xuất hiện.\n",
        "• Input: Đường dẫn đến file txt\n",
        "• Output: dictionary đếm số lần các từ xuất hiện\n",
        "• Note:\n",
        "– Giả sử các từ trong file txt đều có các chữ cái thuộc [a-z] hoặc [A-Z]\n",
        "– Không cần các thao tác xử lý string phức tạp nhưng cần xử lý các từ đều là viết\n",
        "thường\n",
        "– Các bạn dùng lệnh này để download\n",
        "!gdown https://drive.google.com/uc?id=1IBScGdW2xlNsc9v5zSAya548kNgiOrko\n",
        "'''\n",
        "import os\n",
        "!gdown https://drive.google.com/uc?id=1IBScGdW2xlNsc9v5zSAya548kNgiOrko\n",
        "\n",
        "def bag_of_words_from_file(file_path, is_sort_keys=True):\n",
        "  assert os.path.exists(file_path), f'cant find the file from {file_path}'\n",
        "  with open(file_path, \"r+\") as fp1:\n",
        "    data = fp1.read().replace('\\n', ' ').lower() # norm text input\n",
        "    data = data.split(' ')\n",
        "    bows = bag_of_words(data)\n",
        "\n",
        "    if is_sort_keys:\n",
        "      bows = dict(sorted(bows.items()))\n",
        "\n",
        "    return bows\n",
        "\n",
        "print(bag_of_words_from_file('/content/P1_data.txt'))"
      ],
      "metadata": {
        "id": "plKiW5qqDnDP",
        "colab": {
          "base_uri": "https://localhost:8080/"
        },
        "outputId": "d7e5ddc4-64f2-4fc3-d0c7-aa7e2641e0f8"
      },
      "execution_count": 68,
      "outputs": [
        {
          "output_type": "stream",
          "name": "stdout",
          "text": [
            "Downloading...\n",
            "From: https://drive.google.com/uc?id=1IBScGdW2xlNsc9v5zSAya548kNgiOrko\n",
            "To: /content/P1_data.txt\n",
            "\r  0% 0.00/747 [00:00<?, ?B/s]\r100% 747/747 [00:00<00:00, 1.52MB/s]\n",
            "{'a': 7, 'again': 1, 'and': 1, 'are': 1, 'at': 1, 'be': 1, 'become': 2, 'bricks': 1, 'busy': 1, 'but': 1, 'came': 1, 'can': 3, 'cannot': 1, 'change': 1, 'comes': 2, 'conquers': 1, 'courage': 1, 'day': 1, 'different': 1, 'employed': 1, 'enough': 1, 'everything': 1, 'firm': 1, 'for': 3, 'foundation': 1, 'from': 1, 'get': 2, 'have': 1, 'he': 1, 'help': 1, 'him': 1, 'himself': 1, 'his': 2, 'if': 1, 'in': 4, 'is': 3, 'it': 2, 'just': 2, 'kind': 1, 'lay': 1, 'life': 2, 'looking': 1, 'majority': 1, 'makes': 1, 'man': 6, 'mightiest': 1, 'mistakes': 1, 'morning': 1, 'not': 1, 'of': 4, 'one': 4, 'opportunity': 1, 'other': 1, 'others': 1, 'people': 1, 'positive': 1, 'problems': 1, 'profit': 1, 'rather': 1, 'ready': 1, 'secret': 1, 'small': 1, 'solve': 1, 'success': 3, 'successful': 2, 'the': 5, 'them': 1, 'they': 1, 'thinking': 1, 'those': 1, 'thought': 1, 'thrown': 1, 'to': 3, 'too': 1, 'try': 2, 'up': 1, 'usually': 1, 'value': 1, 'want': 2, 'warrior': 1, 'way': 1, 'we': 3, 'what': 1, 'when': 2, 'who': 3, 'whole': 1, 'will': 2, 'with': 4, 'you': 3, 'your': 1}\n"
          ]
        }
      ]
    },
    {
      "cell_type": "code",
      "source": [
        "from re import sub\n",
        "'''\n",
        "Khoảng cách Levenshtein.\n",
        "Viết chương trình tính khoảng cách chỉnh sửa tối thiểu Levenshtein. Khoảng cách Levenshtein thể\n",
        "hiện khoảng cách khác biệt giữa 2 chuỗi ký tự. Khoảng cách Levenshtein giữa chuỗi S và chuỗi T\n",
        "là số bước ít nhất biến chuỗi S thành chuỗi T thông qua 3 phép biến đổi là:\n",
        "• Xoá một ký tự\n",
        "• Thêm một ký tự\n",
        "• Thay thế ký tự này bằng ký tự khác\n",
        "'''\n",
        "import numpy as np\n",
        "\n",
        "def cal_cost(cost_matix, index_to_cal, source_string, target_string):\n",
        "  top_index, left_index, top_left_index = [index_to_cal[0], index_to_cal[1]-1], [index_to_cal[0]-1, index_to_cal[1]], [index_to_cal[0]-1, index_to_cal[1]-1]\n",
        "  del_cost = cost_matix[left_index[0], left_index[1]] + 1\n",
        "  ins_cost = cost_matix[top_index[0], top_index[1]] + 1\n",
        "  sub_value = 1 if source_string[index_to_cal[0]-1] != target_string[index_to_cal[1]-1] else 0\n",
        "  sub_cost = cost_matix[top_left_index[0], top_left_index[1]] + sub_value\n",
        "  return min(del_cost, ins_cost, sub_cost)\n",
        "\n",
        "def init_cost_matrix(columns, rows):\n",
        "  cost_matix = np.zeros((columns, rows))\n",
        "  for i in range(cost_matix.shape[0]):\n",
        "    cost_matix[i, 0] = i\n",
        "  for i in range(cost_matix.shape[1]):\n",
        "    cost_matix[0, i] = i\n",
        "\n",
        "  return cost_matix\n",
        "\n",
        "def levenshtein(source_string, target_string):\n",
        "  m = len(source_string)+1\n",
        "  n = len(target_string)+1\n",
        "\n",
        "  # init value (first row, first column) of cost matrix\n",
        "  cost_matix = init_cost_matrix(m, n)\n",
        "\n",
        "  # calculate cost matrix\n",
        "  for i in range(1, cost_matix.shape[0]):\n",
        "    for j in range(1, cost_matix.shape[1]):\n",
        "      cost_matix[i, j] = cal_cost(cost_matix, [i, j], source_string, target_string)\n",
        "\n",
        "  return cost_matix[m-1, n-1] # return the latest value of cost matrix, it is levenshtein\n",
        "\n",
        "print(levenshtein(\"yu\", \"you\"))\n",
        "\n"
      ],
      "metadata": {
        "colab": {
          "base_uri": "https://localhost:8080/"
        },
        "id": "iRYCgSbXDy3q",
        "outputId": "7567a0cc-6ac7-4cf1-ea6c-372e84448840"
      },
      "execution_count": 134,
      "outputs": [
        {
          "output_type": "stream",
          "name": "stdout",
          "text": [
            "1.0\n"
          ]
        }
      ]
    },
    {
      "cell_type": "markdown",
      "source": [
        "# Trắc nghiệm"
      ],
      "metadata": {
        "id": "tnSfqiZ9S6la"
      }
    },
    {
      "cell_type": "code",
      "source": [
        "'''\n",
        "Câu hỏi 1:(Code) Hoàn thành chương trình sau với mô tả bài toán từ câu I.1. Đầu ra của chương trình\n",
        "dưới đây là gì?\n",
        "'''\n",
        "assert sliding_windows([3, 4, 5, 1, -44], 3) == [5 , 5 , 5]\n",
        "num_list = [3, 4, 5, 1, -44, 5, 10, 12, 33, 1]\n",
        "k = 3\n",
        "print(sliding_windows(num_list, k))"
      ],
      "metadata": {
        "colab": {
          "base_uri": "https://localhost:8080/"
        },
        "id": "8w9KSqCvS82P",
        "outputId": "18c00ed9-95be-458e-ee39-6f3d32aecc30"
      },
      "execution_count": 137,
      "outputs": [
        {
          "output_type": "stream",
          "name": "stdout",
          "text": [
            "[5, 5, 5, 5, 10, 12, 33, 33]\n"
          ]
        }
      ]
    },
    {
      "cell_type": "code",
      "source": [
        "'''\n",
        "Câu hỏi 2:(Code) Hoàn thành chương trình sau với mô tả bài toán từ câu I.2. Đầu ra của chương trình\n",
        "dưới đây là gì?\n",
        "'''\n",
        "assert bag_of_words(\"Baby\") == {'B': 1, 'a': 1, 'b': 1, 'y': 1}\n",
        "print(bag_of_words('smiles'))"
      ],
      "metadata": {
        "colab": {
          "base_uri": "https://localhost:8080/"
        },
        "id": "7X0XHzEpTbg1",
        "outputId": "384f0dfd-ac4f-4a21-8eb5-516c66adeca5"
      },
      "execution_count": 138,
      "outputs": [
        {
          "output_type": "stream",
          "name": "stdout",
          "text": [
            "{'s': 2, 'm': 1, 'i': 1, 'l': 1, 'e': 1}\n"
          ]
        }
      ]
    },
    {
      "cell_type": "code",
      "source": [
        "'''\n",
        "Câu hỏi 3: (Code) Hoàn thành chương trình sau với mô tả bài toán từ câu I.3. Đầu ra của chương trình\n",
        "dưới đây là gì?\n",
        "'''\n",
        "!gdown https://drive.google.com/uc?id=1IBScGdW2xlNsc9v5zSAya548kNgiOrko\n",
        "file_path = '/content/P1_data.txt'\n",
        "result = bag_of_words_from_file(file_path)\n",
        "assert result ['who'] == 3\n",
        "print(result['man'])"
      ],
      "metadata": {
        "colab": {
          "base_uri": "https://localhost:8080/"
        },
        "id": "Uh6TxVYKTwHO",
        "outputId": "0afb5174-fafc-4732-d2e5-8c16187919b1"
      },
      "execution_count": 139,
      "outputs": [
        {
          "output_type": "stream",
          "name": "stdout",
          "text": [
            "Downloading...\n",
            "From: https://drive.google.com/uc?id=1IBScGdW2xlNsc9v5zSAya548kNgiOrko\n",
            "To: /content/P1_data.txt\n",
            "\r  0% 0.00/747 [00:00<?, ?B/s]\r100% 747/747 [00:00<00:00, 2.24MB/s]\n",
            "6\n"
          ]
        }
      ]
    },
    {
      "cell_type": "code",
      "source": [
        "'''\n",
        "Câu hỏi 4:(Code) Hoàn thành chương trình sau với mô tả bài toán từ câu I.4. Đầu ra của chương trình\n",
        "dưới đây là gì?\n",
        "'''\n",
        "assert levenshtein(\"hi\", \"hello\") == 4.0\n",
        "print(levenshtein(\"hola\", \"hello\"))"
      ],
      "metadata": {
        "colab": {
          "base_uri": "https://localhost:8080/"
        },
        "id": "84kxXp99UTE_",
        "outputId": "3c657d34-2cad-450e-9784-c06ccd722ad5"
      },
      "execution_count": 140,
      "outputs": [
        {
          "output_type": "stream",
          "name": "stdout",
          "text": [
            "3.0\n"
          ]
        }
      ]
    },
    {
      "cell_type": "code",
      "source": [
        "'''\n",
        "Câu hỏi 5:(Code) Hoàn thành chương trình sau. Đầu ra của chương trình dưới đây là gì?\n",
        "'''\n",
        "def check_the_number(N):\n",
        "  list_of_numbers = []\n",
        "  result = \"\"\n",
        "  for i in range(1, 5):\n",
        "    list_of_numbers.append(i)\n",
        "\n",
        "  if N in list_of_numbers:\n",
        "    results = \"True\"\n",
        "  if N not in list_of_numbers:\n",
        "    results = \"False\"\n",
        "\n",
        "  return results\n",
        "\n",
        "N = 7\n",
        "assert check_the_number(N) == \"False\"\n",
        "N = 2\n",
        "results = check_the_number(N)\n",
        "print(results)"
      ],
      "metadata": {
        "colab": {
          "base_uri": "https://localhost:8080/"
        },
        "id": "PoL4kC8zUVV-",
        "outputId": "ab36c9a2-6148-48ba-e8b8-d0d6fc48db17"
      },
      "execution_count": 142,
      "outputs": [
        {
          "output_type": "stream",
          "name": "stdout",
          "text": [
            "True\n"
          ]
        }
      ]
    },
    {
      "cell_type": "code",
      "source": [
        "'''\n",
        "Câu hỏi 6: (Code) Hoàn thành chương trình sau. Đầu ra của chương trình dưới đây là gì?\n",
        "'''\n",
        "def my_function(data, max, min):\n",
        "  result = []\n",
        "  for i in data:\n",
        "    if i < min:\n",
        "      result.append(min)\n",
        "    elif i > max:\n",
        "      result.append(max)\n",
        "    else:\n",
        "      result.append(i)\n",
        "\n",
        "  return result\n",
        "\n",
        "my_list = [5, 2, 5, 0, 1]\n",
        "max = 1\n",
        "min = 0\n",
        "assert my_function(max=max, min=min, data=my_list) == [1, 1, 1, 0, 1]\n",
        "my_list = [10, 2, 5, 0, 1]\n",
        "max = 2\n",
        "min = 1\n",
        "print(my_function(max=max, min=min, data=my_list))"
      ],
      "metadata": {
        "colab": {
          "base_uri": "https://localhost:8080/"
        },
        "id": "5BuqHhTbUVdy",
        "outputId": "905667e2-10cf-44aa-8bc8-7b8a9fb0dd3c"
      },
      "execution_count": 146,
      "outputs": [
        {
          "output_type": "stream",
          "name": "stdout",
          "text": [
            "[2, 2, 2, 1, 1]\n"
          ]
        }
      ]
    },
    {
      "cell_type": "code",
      "source": [
        "'''\n",
        "Câu hỏi 7: (Code) Hoàn thành chương trình sau. Đầu ra của chương trình dưới đây là gì?\n",
        "'''\n",
        "\n",
        "def my_function(x, y):\n",
        "  x.extend(y)\n",
        "\n",
        "  return x\n",
        "\n",
        "list_num1 = [\"a\", 2, 5]\n",
        "list_num2 = [1, 1]\n",
        "list_num3 = [0, 0]\n",
        "assert my_function(list_num1, my_function(list_num2, list_num3)) == ['a', 2, 5, 1, 1, 0, 0]\n",
        "\n",
        "list_num1 = [1, 2]\n",
        "list_num2 = [3, 4]\n",
        "list_num3 = [0, 0]\n",
        "print(my_function(list_num1, my_function(list_num2, list_num3)))"
      ],
      "metadata": {
        "colab": {
          "base_uri": "https://localhost:8080/"
        },
        "id": "gi7Mz8SmUVka",
        "outputId": "b793dcde-9d70-48e2-fd7a-c1c4c0f4db02"
      },
      "execution_count": 147,
      "outputs": [
        {
          "output_type": "stream",
          "name": "stdout",
          "text": [
            "[1, 2, 3, 4, 0, 0]\n"
          ]
        }
      ]
    },
    {
      "cell_type": "code",
      "source": [
        "'''\n",
        "Câu hỏi 8: Hãy hoàn thành chương trình tìm phần tử có giá trị nhỏ nhất trong một list dưới đây.\n",
        "Đầu ra của chương trình là gì?\n",
        "'''\n",
        "\n",
        "def my_function(n):\n",
        "  min_num = n[0]\n",
        "  for i in n:\n",
        "    if i < min_num:\n",
        "      min_num = i\n",
        "\n",
        "  return min_num\n",
        "\n",
        "my_list = [1, 22, 93, -100]\n",
        "assert my_function(my_list) == -100\n",
        "\n",
        "my_list = [1, 2, 3, -1]\n",
        "print(my_function(my_list))"
      ],
      "metadata": {
        "colab": {
          "base_uri": "https://localhost:8080/"
        },
        "id": "0_uhWyMHUVpw",
        "outputId": "0b87803a-9d57-44a9-f708-e35d28f3d628"
      },
      "execution_count": 148,
      "outputs": [
        {
          "output_type": "stream",
          "name": "stdout",
          "text": [
            "-1\n"
          ]
        }
      ]
    },
    {
      "cell_type": "code",
      "source": [],
      "metadata": {
        "id": "STuozH9cWtEr"
      },
      "execution_count": null,
      "outputs": []
    },
    {
      "cell_type": "code",
      "source": [
        "'''\n",
        "Câu hỏi 9: Hãy hoàn thành chương trình tìm phần tử có giá trị lớn nhất trong một list dưới đây.\n",
        "Đầu ra của chương trình là gì?\n",
        "'''\n",
        "def my_function(n):\n",
        "  max_num = n[0]\n",
        "  for i in n:\n",
        "    if i > max_num:\n",
        "      max_num = i\n",
        "\n",
        "  return max_num\n",
        "\n",
        "my_list = [1001, 9, 100, 0]\n",
        "assert my_function(my_list) == 1001\n",
        "\n",
        "my_list = [1, 9, 9, 0]\n",
        "print(my_function(my_list))\n"
      ],
      "metadata": {
        "colab": {
          "base_uri": "https://localhost:8080/"
        },
        "id": "Oe0MZQDcUVxg",
        "outputId": "68c84d02-160d-4f2b-a0ec-fe77d31788ad"
      },
      "execution_count": 150,
      "outputs": [
        {
          "output_type": "stream",
          "name": "stdout",
          "text": [
            "9\n"
          ]
        }
      ]
    },
    {
      "cell_type": "code",
      "source": [
        "'''\n",
        "Câu hỏi 10: (Code) Hãy hoàn thành chương trình dưới đây, đầu ra của chương trình là gì\n",
        "'''\n",
        "def My_function(integers, number=1):\n",
        "  result = []\n",
        "  for i in integers:\n",
        "    if i == number:\n",
        "      result.append(True)\n",
        "    else:\n",
        "      result.append(False)\n",
        "\n",
        "  return any(result)\n",
        "\n",
        "my_list = [1, 3, 9, 4]\n",
        "assert My_function(my_list, -1) == False\n",
        "\n",
        "my_list = [1, 2, 3, 4]\n",
        "print(My_function(my_list, 2))"
      ],
      "metadata": {
        "colab": {
          "base_uri": "https://localhost:8080/"
        },
        "id": "79EmUW-UWt6D",
        "outputId": "6531e28b-09dc-4e23-be6d-427c8ce14095"
      },
      "execution_count": 153,
      "outputs": [
        {
          "output_type": "stream",
          "name": "stdout",
          "text": [
            "True\n"
          ]
        }
      ]
    },
    {
      "cell_type": "code",
      "source": [
        "'''\n",
        "Câu hỏi 11: (Code) Hãy hoàn thành chương trình dưới đây, đầu ra của chương trình là gì\n",
        "'''\n",
        "def my_function(list_nums = [0, 1, 2]):\n",
        "  var = 0\n",
        "  for i in list_nums:\n",
        "    var += i\n",
        "\n",
        "  return var/len(list_nums)\n",
        "\n",
        "assert my_function([4, 6, 8]) == 6\n",
        "print(my_function())"
      ],
      "metadata": {
        "colab": {
          "base_uri": "https://localhost:8080/"
        },
        "id": "bt5x9S6WXmsJ",
        "outputId": "1745ad03-01da-4e94-c95e-c61a2747d4cb"
      },
      "execution_count": 154,
      "outputs": [
        {
          "output_type": "stream",
          "name": "stdout",
          "text": [
            "1.0\n"
          ]
        }
      ]
    },
    {
      "cell_type": "code",
      "source": [
        "'''\n",
        "Câu hỏi 12: (Code) Hãy hoàn thành chương trình dưới đây, đầu ra của chương trình là gì\n",
        "'''\n",
        "def my_function(data):\n",
        "  var = []\n",
        "  for i in data:\n",
        "    if i % 3 == 0:\n",
        "      var.append(i)\n",
        "\n",
        "  return var\n",
        "\n",
        "assert my_function([3, 9, 4, 5]) == [3, 9]\n",
        "print(my_function([1, 2, 3, 4, 5, 6]))"
      ],
      "metadata": {
        "colab": {
          "base_uri": "https://localhost:8080/"
        },
        "id": "efR8ObJ4s7wC",
        "outputId": "67acecab-5343-43f5-ff7f-924492a2c0ad"
      },
      "execution_count": 155,
      "outputs": [
        {
          "output_type": "stream",
          "name": "stdout",
          "text": [
            "[3, 6]\n"
          ]
        }
      ]
    },
    {
      "cell_type": "code",
      "source": [
        "'''\n",
        "Câu hỏi 13: (Code) Hãy hoàn thành chương trình sau đây thực hiện tính giai thừa của 1 số. Đầu\n",
        "ra của chương trình dưới đây là gì?\n",
        "'''\n",
        "def my_function(y):\n",
        "  var = 1\n",
        "  while (y > 1):\n",
        "    var *= y\n",
        "    y -= 1\n",
        "\n",
        "  return var\n",
        "\n",
        "assert my_function(8) == 40320\n",
        "print (my_function(4))"
      ],
      "metadata": {
        "colab": {
          "base_uri": "https://localhost:8080/"
        },
        "id": "VJvgYXgEtRbN",
        "outputId": "0d8da0d0-f713-4368-b76e-9f87533c7626"
      },
      "execution_count": 157,
      "outputs": [
        {
          "output_type": "stream",
          "name": "stdout",
          "text": [
            "24\n"
          ]
        }
      ]
    },
    {
      "cell_type": "code",
      "source": [
        "'''\n",
        "Câu hỏi 14: (Code) Hãy hoàn thành chương trình đảo ngược chuỗi dưới đây. Đầu ra của chương trình là gì?\n",
        "'''\n",
        "def my_function(x):\n",
        "  return ''.join([x[-i] for i in range(1, len(x))])+x[0]\n",
        "\n",
        "x = 'I can do it'\n",
        "assert my_function(x) == 'ti od nac I'\n",
        "\n",
        "x = 'apricot'\n",
        "print(my_function(x))"
      ],
      "metadata": {
        "colab": {
          "base_uri": "https://localhost:8080/"
        },
        "id": "S9_4I1DVtuFI",
        "outputId": "a789e826-7d22-4d4a-944d-76c5dcf6a489"
      },
      "execution_count": 168,
      "outputs": [
        {
          "output_type": "stream",
          "name": "stdout",
          "text": [
            "tocirpa\n"
          ]
        }
      ]
    },
    {
      "cell_type": "code",
      "source": [
        "'''\n",
        "Câu hỏi 15: (Code) Hãy hoàn thành chương trình sau đây. Đầu ra của chương trình là gì?\n",
        "'''\n",
        "\n",
        "def function_helper(x):\n",
        "  if x > 0:\n",
        "    return \"T\"\n",
        "  else:\n",
        "    return \"N\"\n",
        "\n",
        "def my_function(data):\n",
        "  res = [function_helper(x) for x in data]\n",
        "\n",
        "  return res\n",
        "\n",
        "data = [10, 0, -10, -1]\n",
        "assert my_function(data) == [\"T\", \"N\", \"N\", \"N\"]\n",
        "\n",
        "data = [2, 3, 4, -1]\n",
        "print(my_function(data))"
      ],
      "metadata": {
        "colab": {
          "base_uri": "https://localhost:8080/"
        },
        "id": "PHPi-yEour2s",
        "outputId": "c632b992-7ac0-49fb-f3e1-0b6143b34e5f"
      },
      "execution_count": 169,
      "outputs": [
        {
          "output_type": "stream",
          "name": "stdout",
          "text": [
            "['T', 'T', 'T', 'N']\n"
          ]
        }
      ]
    },
    {
      "cell_type": "code",
      "source": [
        "'''\n",
        "Câu hỏi 16: (Code) Hãy hoàn thành chương trình sau đây. Đầu ra của chương trình là gì?\n",
        "'''\n",
        "def function_helper(x, data):\n",
        "  for i in data:\n",
        "    if x == i:\n",
        "      return 0\n",
        "  return 1\n",
        "\n",
        "def my_function(data):\n",
        "  res = []\n",
        "  for i in data:\n",
        "    if function_helper(i, res):\n",
        "      res.append(i)\n",
        "\n",
        "  return res\n",
        "\n",
        "lst = [10, 10, 9, 7, 7]\n",
        "assert my_function(lst) == [10, 9, 7]\n",
        "\n",
        "lst = [9, 9, 8, 1, 1]\n",
        "print(my_function(lst))"
      ],
      "metadata": {
        "colab": {
          "base_uri": "https://localhost:8080/"
        },
        "id": "KjKzswFOvF3b",
        "outputId": "d6b6a872-6244-4f29-8979-7e5702cdfbbe"
      },
      "execution_count": 171,
      "outputs": [
        {
          "output_type": "stream",
          "name": "stdout",
          "text": [
            "[9, 8, 1]\n"
          ]
        }
      ]
    }
  ]
}