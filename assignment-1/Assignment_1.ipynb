{
  "nbformat": 4,
  "nbformat_minor": 0,
  "metadata": {
    "colab": {
      "provenance": []
    },
    "kernelspec": {
      "name": "python3",
      "display_name": "Python 3"
    },
    "language_info": {
      "name": "python"
    }
  },
  "cells": [
    {
      "cell_type": "code",
      "execution_count": 1,
      "metadata": {
        "colab": {
          "base_uri": "https://localhost:8080/"
        },
        "id": "vRttSEGYCQEW",
        "outputId": "6bba0ac2-641a-410f-cf45-c2129771b197"
      },
      "outputs": [
        {
          "output_type": "stream",
          "name": "stdout",
          "text": [
            "0.31\n"
          ]
        }
      ],
      "source": [
        "'''\n",
        "Câu hỏi 1 : Viết function thực hiện đánh giá classification model bằng F1-Score. Function nhận vào 3\n",
        "giá trị tp, fp, fn và trả về F1-score\n",
        "Đáp án C\n",
        "'''\n",
        "import math\n",
        "def calc_f1_score ( tp , fp , fn ) :\n",
        "  '''\n",
        "  Calculate f1 score\n",
        "  '''\n",
        "  precision = tp / (tp + fp)\n",
        "  recall = tp / (tp + fn)\n",
        "  return 2 * (precision * recall) / (precision + recall)\n",
        "assert round(calc_f1_score(tp=2, fp=3, fn=5), 2) == 0.33\n",
        "print (round(calc_f1_score(tp=2, fp=4, fn=5), 2))"
      ]
    },
    {
      "cell_type": "code",
      "source": [
        "'''\n",
        "Câu hỏi 2 : Viết function is_number nhận input có thể là string hoặc một số kiểm tra n (một\n",
        "số) có hợp lệ hay không (vd: n=’10’, is_number(n) sẽ trả về True ngược lại là False). Đầu ra của\n",
        "chương trình sau đây là gì?\n",
        "Đáp án B\n",
        "'''\n",
        "import math\n",
        "def is_number(n) :\n",
        "  try :\n",
        "    float (n)\n",
        "    return True\n",
        "  except :\n",
        "    return False\n",
        "\n",
        "assert is_number (3) == 1.0\n",
        "assert is_number ('-2a') == 0.0\n",
        "print(is_number(1))\n",
        "print(is_number('n'))"
      ],
      "metadata": {
        "colab": {
          "base_uri": "https://localhost:8080/"
        },
        "id": "AGxmu7VGDDiE",
        "outputId": "0569a437-db43-4a8a-8b44-46308d25fc5d"
      },
      "execution_count": 2,
      "outputs": [
        {
          "output_type": "stream",
          "name": "stdout",
          "text": [
            "True\n",
            "False\n"
          ]
        }
      ]
    },
    {
      "cell_type": "code",
      "source": [
        "'''\n",
        "Câu hỏi 3 : Đoạn code dưới đây đang thực hiện activation function nào?\n",
        "Đáp án C\n",
        "'''\n",
        "x = -2.0\n",
        "if x <=0:\n",
        "  y = 0.0\n",
        "else :\n",
        "  y = x\n",
        "print(y)\n"
      ],
      "metadata": {
        "id": "plKiW5qqDnDP"
      },
      "execution_count": null,
      "outputs": []
    },
    {
      "cell_type": "code",
      "source": [
        "'''\n",
        "Câu hỏi 4 : Viết function thực hiện Sigmoid Function f(x) = 1\n",
        "1 + e−x\n",
        ". Nhận input là x và return kết\n",
        "\n",
        "quả tương ứng trong Sigmoid Function. Đầu ra của chương trình sau đây là gì?\n",
        "Đáp án A\n",
        "'''\n",
        "import math\n",
        "def calc_sig(x) :\n",
        "  '''\n",
        "  calculate Sigmoid Function\n",
        "  '''\n",
        "  return 1 / (1 + math.exp(-x))\n",
        "assert round(calc_sig(3), 2) == 0.95\n",
        "print(round(calc_sig(2), 2))"
      ],
      "metadata": {
        "colab": {
          "base_uri": "https://localhost:8080/"
        },
        "id": "iRYCgSbXDy3q",
        "outputId": "41d0995f-7a70-46b4-f49c-a07ecce7da3d"
      },
      "execution_count": 3,
      "outputs": [
        {
          "output_type": "stream",
          "name": "stdout",
          "text": [
            "0.88\n"
          ]
        }
      ]
    },
    {
      "cell_type": "code",
      "source": [
        "'''\n",
        "Câu hỏi 5 : Viết function thực hiện Elu Function f(x) =\n",
        "α(e\n",
        "x − 1) if x ≤ 0\n",
        "x if x > 0\n",
        "\n",
        ". Nhận input là x và\n",
        "return kết quả tương ứng trong Elu Function. Đầu ra của chương trình sau đây là gì khi α = 0.01?\n",
        "Đáp án B\n",
        "'''\n",
        "import math\n",
        "def calc_elu(x) :\n",
        "  '''\n",
        "  calculate Elu Function\n",
        "  '''\n",
        "  ALPHA = 0.01\n",
        "  if x <= 0 :\n",
        "    return ALPHA*(math.exp(x) - 1)\n",
        "  else :\n",
        "    return x\n",
        "\n",
        "assert round(calc_elu(1)) == 1\n",
        "print(round(calc_elu(-1), 2))"
      ],
      "metadata": {
        "colab": {
          "base_uri": "https://localhost:8080/"
        },
        "id": "TU0JDnDtEBmH",
        "outputId": "56045549-27cf-4768-f693-7e473b8da198"
      },
      "execution_count": 4,
      "outputs": [
        {
          "output_type": "stream",
          "name": "stdout",
          "text": [
            "-0.01\n"
          ]
        }
      ]
    },
    {
      "cell_type": "code",
      "source": [
        "'''\n",
        "Câu hỏi 6 : Viết function nhận 2 giá trị x, và tên của activation function act_name activation\n",
        "function chỉ có 3 loại (sigmoid, relu, elu), thực hiện tính toán activation function tương ứng với\n",
        "name nhận được trên giá trị của x và trả kết quả. Đầu ra của chương trình sau đây là gì?\n",
        "Đáp án A\n",
        "'''\n",
        "import math\n",
        "def calc_activation_func(x, act_name) :\n",
        "  act_name = act_name.lower()\n",
        "  assert act_name in [\"relu\", \"elu\", 'sigmoid']\n",
        "  if act_name == \"relu\":\n",
        "    if x <= 0:\n",
        "      return 0\n",
        "    else:\n",
        "      return x\n",
        "  elif act_name == \"elu\":\n",
        "    ALPHA = 0.01\n",
        "    if x <= 0:\n",
        "      return ALPHA * (math.exp(x) - 1)\n",
        "    else:\n",
        "      return x\n",
        "  elif act_name == \"sigmoid\":\n",
        "    return 1 / (1 + math.exp(-x))\n",
        "assert calc_activation_func(x=1, act_name='relu') == 1\n",
        "print(round(calc_activation_func(x=3, act_name='sigmoid'), 2))"
      ],
      "metadata": {
        "colab": {
          "base_uri": "https://localhost:8080/"
        },
        "id": "RfPyI_1VEe87",
        "outputId": "cb635c49-af91-4b3b-a3f4-1432fd3b415e"
      },
      "execution_count": 5,
      "outputs": [
        {
          "output_type": "stream",
          "name": "stdout",
          "text": [
            "0.95\n"
          ]
        }
      ]
    },
    {
      "cell_type": "code",
      "source": [
        "'''\n",
        "Câu hỏi 7 : Viết function tính absolute error = |y−yˆ|. Nhận input là y và yˆ, return về kết quả absolute\n",
        "error tương ứng. Đầu ra của chương trình sau đây là gì?\n",
        "Đáp án A\n",
        "'''\n",
        "def calc_ae (y, y_hat ) :\n",
        "  return abs(y-y_hat)\n",
        "\n",
        "y = 1\n",
        "y_hat = 6\n",
        "assert calc_ae(y, y_hat) == 5\n",
        "y = 2\n",
        "y_hat = 9\n",
        "print(calc_ae(y, y_hat))"
      ],
      "metadata": {
        "colab": {
          "base_uri": "https://localhost:8080/"
        },
        "id": "_0L-wGJfE--a",
        "outputId": "03cbb36f-ba99-452b-82d1-216c355a958a"
      },
      "execution_count": 7,
      "outputs": [
        {
          "output_type": "stream",
          "name": "stdout",
          "text": [
            "7\n"
          ]
        }
      ]
    },
    {
      "cell_type": "code",
      "source": [
        "'''\n",
        "Câu hỏi 8 : Viết function tính squared error = (y−yˆ)\n",
        "2\n",
        ". Nhận input là y và yˆ, return về kết quả squared\n",
        "\n",
        "error tương ứng. Đầu ra của chương trình sau đây là gì?\n",
        "Đáp án A\n",
        "'''\n",
        "def calc_se(y, y_hat) :\n",
        "  return (y-y_hat)**2\n",
        "y = 4\n",
        "y_hat = 2\n",
        "assert calc_se(y, y_hat ) == 4\n",
        "print(calc_se(2, 1))"
      ],
      "metadata": {
        "colab": {
          "base_uri": "https://localhost:8080/"
        },
        "id": "aAtE2oP_FT2C",
        "outputId": "3afd1d39-d0ed-4e75-a157-4c2e0f8b09e1"
      },
      "execution_count": 8,
      "outputs": [
        {
          "output_type": "stream",
          "name": "stdout",
          "text": [
            "1\n"
          ]
        }
      ]
    },
    {
      "cell_type": "code",
      "source": [
        "'''\n",
        "Câu hỏi 9 : Dựa vào công thức xấp xỉ cos và điều kiện được giới thiệu các bạn click ở đây. Viết function\n",
        "xấp xỉ cos khi nhận x là giá trị muốn tính cos(x) và n là số lần lặp muốn xấp xỉ. Return về kết quả\n",
        "cos(x) với bậc xấp xỉ tương ứng. Đầu ra của chương trình sau đây là gì?\n",
        "Đáp án C\n",
        "'''\n",
        "def approx_cos (x , n) :\n",
        "  accumulate_result = 1\n",
        "  factorial = 1\n",
        "  for i in range(2, n+2, 2):\n",
        "    if i % 4 == 0:\n",
        "      accumulate_result = accumulate_result+(x**i/(math.factorial(i)))\n",
        "    else:\n",
        "      accumulate_result = accumulate_result-(x**i/(math.factorial(i)))\n",
        "\n",
        "  return accumulate_result\n",
        "assert round(approx_cos(x=1, n=10) , 2) == 0.54\n",
        "print(round(approx_cos(x=3.14, n=10) , 2))"
      ],
      "metadata": {
        "colab": {
          "base_uri": "https://localhost:8080/"
        },
        "id": "bhn9fgWJFhT0",
        "outputId": "d9d83fd2-fc15-4fef-ba48-57cab85a86b5"
      },
      "execution_count": 31,
      "outputs": [
        {
          "output_type": "stream",
          "name": "stdout",
          "text": [
            "-1.0\n"
          ]
        }
      ]
    },
    {
      "cell_type": "code",
      "source": [
        "'''\n",
        "Câu hỏi 10 : Dựa vào công thức xấp xỉ sin và điều kiện được giới thiệu các bạn click ở đây. Viết\n",
        "function xấp xỉ sin khi nhận x là giá trị muốn tính sin(x) và n là số lần lặp muốn xấp xỉ. Return về kết\n",
        "quả sin(x) với bậc xấp xỉ tương ứng. Đầu ra của chương trình sau đây là gì?\n",
        "Đáp án A\n",
        "'''\n",
        "def approx_sin (x , n ) :\n",
        "  accumulate_result = x\n",
        "  factorial = 1\n",
        "  for i in range(3, n+4, 4):\n",
        "    accumulate_result-=((x**i)/math.factorial(i))\n",
        "    accumulate_result+=((x**(i+2))/math.factorial(i+2))\n",
        "  return accumulate_result\n",
        "assert round(approx_sin(x=1, n=10), 4) == 0.8415\n",
        "print(round(approx_sin(x=3.14, n=10), 4))"
      ],
      "metadata": {
        "colab": {
          "base_uri": "https://localhost:8080/"
        },
        "id": "TF5W5Bc_Iwow",
        "outputId": "ccd8f23a-126e-4b94-b6f5-7fa50a31ffe4"
      },
      "execution_count": 34,
      "outputs": [
        {
          "output_type": "stream",
          "name": "stdout",
          "text": [
            "0.0016\n"
          ]
        }
      ]
    },
    {
      "cell_type": "code",
      "source": [
        "'''\n",
        "Câu hỏi 11 : Dựa vào công thức xấp xỉ sinh và điều kiện được giới thiệu các bạn click ở đây. Viết\n",
        "function xấp xỉ sinh khi nhận x là giá trị muốn tính sinh(x) và n là số lần lặp muốn xấp xỉ. Return về\n",
        "kết quả sinh(x) với bậc xấp xỉ tương ứng. Đầu ra của chương trình sau đây là gì?\n",
        "Đáp án A\n",
        "'''\n",
        "def approx_sinh (x , n ) :\n",
        "  accumulate_result = x\n",
        "  factorial = 1\n",
        "  for i in range(3, n+2, 2):\n",
        "    accumulate_result+=((x**i)/math.factorial(i))\n",
        "  return accumulate_result\n",
        "assert round(approx_sinh(x =1 , n=10), 2) == 1.18\n",
        "print(round(approx_sinh(x=3.14 , n=10), 2))"
      ],
      "metadata": {
        "colab": {
          "base_uri": "https://localhost:8080/"
        },
        "id": "GVKYZwc_KzVW",
        "outputId": "38b04971-4892-4678-85a4-034650ad50b1"
      },
      "execution_count": 38,
      "outputs": [
        {
          "output_type": "stream",
          "name": "stdout",
          "text": [
            "11.53\n"
          ]
        }
      ]
    },
    {
      "cell_type": "code",
      "source": [
        "'''\n",
        "Câu hỏi 12 : Dựa vào công thức xấp xỉ cosh và điều kiện được giới thiệu các bạn click ở đây. Viết\n",
        "function xấp xỉ cosh khi nhận x là giá trị muốn tính cosh(x) và n là số lần lặp muốn xấp xỉ. Return về\n",
        "kết quả cosh(x) với bậc xấp xỉ tương ứng. Đầu ra của chương trình sau đây là gì?\n",
        "Đáp án A\n",
        "'''\n",
        "def approx_cosh (x , n ) :\n",
        "  accumulate_result = 1\n",
        "  factorial = 1\n",
        "  for i in range(2, n+2, 2):\n",
        "    accumulate_result = accumulate_result+(x**i/(math.factorial(i)))\n",
        "\n",
        "  return accumulate_result\n",
        "\n",
        "assert round(approx_cosh(x=1 , n=10) , 2) == 1.54\n",
        "print(round(approx_cosh(x=3.14 , n=10) , 2))"
      ],
      "metadata": {
        "colab": {
          "base_uri": "https://localhost:8080/"
        },
        "id": "VfvD1v7IL_ox",
        "outputId": "798bf8f5-6a09-451d-afdd-06889516a5f3"
      },
      "execution_count": 39,
      "outputs": [
        {
          "output_type": "stream",
          "name": "stdout",
          "text": [
            "11.57\n"
          ]
        }
      ]
    },
    {
      "cell_type": "code",
      "source": [
        "'''\n",
        "Câu hỏi 13 : Đoạn code nào thực hiện đúng Mean Difference of nth Root Error được miêu tả ở trên?\n",
        "Đáp án: A\n",
        "'''\n",
        "def md_nre_single_sample (y , y_hat , n , p) :\n",
        "  y_root = y ** (1/ n )\n",
        "  y_hat_root = y_hat ** (1/ n )\n",
        "  difference = y_root - y_hat_root\n",
        "  loss = difference\n",
        "  return loss\n",
        "print(md_nre_single_sample(100, 99.5, 2, 1))\n",
        "print(md_nre_single_sample(50, 49.5, 2, 1))\n",
        "print(md_nre_single_sample(20, 19.5, 2, 1))\n",
        "print(md_nre_single_sample(5.5, 5.0, 2, 1))\n",
        "print(md_nre_single_sample(1.0, 0.5, 2, 1))\n",
        "print(md_nre_single_sample(0.6, 0.1, 2, 1))"
      ],
      "metadata": {
        "colab": {
          "base_uri": "https://localhost:8080/"
        },
        "id": "DIu3cjWkMU6a",
        "outputId": "e09210e1-d222-4d7c-cdd3-921c2cc5450b"
      },
      "execution_count": 43,
      "outputs": [
        {
          "output_type": "stream",
          "name": "stdout",
          "text": [
            "0.025031328369998107\n",
            "0.03544417213033135\n",
            "0.05625552183565574\n",
            "0.10913990241192506\n",
            "0.2928932188134524\n",
            "0.45836890322464546\n"
          ]
        }
      ]
    }
  ]
}